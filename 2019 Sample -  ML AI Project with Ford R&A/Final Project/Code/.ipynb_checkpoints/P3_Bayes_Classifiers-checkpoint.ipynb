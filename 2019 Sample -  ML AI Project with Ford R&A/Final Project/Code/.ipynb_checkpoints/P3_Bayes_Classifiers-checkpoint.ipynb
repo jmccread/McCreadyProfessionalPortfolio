{
 "cells": [
  {
   "cell_type": "markdown",
   "metadata": {},
   "source": [
    "#  Created by Joshua McCready (jmccread@umich.edu/jmccrea8@ford.com)\n",
    "## Naive Bayes Model for Binary Road Wheel Misalgingment Classification"
   ]
  },
  {
   "cell_type": "markdown",
   "metadata": {},
   "source": [
    "Perform feature selection by iteratively removing features according to thier mutual information score for k-folds cross validation over the numeric features present in the dataset. As a part of the k-folds validation features are recursively eliminated based on feature rank until average training model performance suffers by at least 2% or until features run out."
   ]
  },
  {
   "cell_type": "code",
   "execution_count": 4,
   "metadata": {},
   "outputs": [],
   "source": [
    "import numpy as np\n",
    "import math\n",
    "import os\n",
    "from os.path import isfile, join\n",
    "from os import walk\n",
    "from pathlib import Path\n",
    "import pandas as pd\n",
    "import time\n",
    "import scipy.io as sio\n",
    "import matplotlib.pyplot as plt\n",
    "import itertools  \n",
    "\n",
    "\n",
    "from sklearn.model_selection import train_test_split\n",
    "from sklearn.preprocessing import StandardScaler\n",
    "from sklearn.naive_bayes import GaussianNB\n",
    "from sklearn.model_selection import KFold\n",
    "\n",
    "from sklearn.metrics import confusion_matrix\n",
    "from sklearn.metrics import accuracy_score\n",
    "from sklearn.metrics import f1_score\n",
    "from sklearn.metrics import recall_score\n",
    "from sklearn.metrics import precision_score\n",
    "import util.reports as rp\n",
    "\n",
    "from sklearn.pipeline import Pipeline\n",
    "from sklearn.model_selection import cross_validate\n",
    "from sklearn.feature_selection import RFE\n",
    "from sklearn.metrics import mutual_info_score\n",
    "\n",
    "import sys\n",
    "sys.path.append('../') # Feeling cute might delete later\n",
    "from util.reports import report_feature_ranking\n",
    "from util.fspp import get_fspp\n",
    "from util.mutual import MutualInfo\n",
    "from util.reports import report_feature_ranking\n",
    "\n",
    "import seaborn as sn\n",
    "import pickle"
   ]
  },
  {
   "cell_type": "markdown",
   "metadata": {},
   "source": [
    "## Import data from hard drive"
   ]
  },
  {
   "cell_type": "code",
   "execution_count": 5,
   "metadata": {},
   "outputs": [],
   "source": [
    "root = r\".\\..\\Data\" \n",
    "file = os.path.join(root, \"df_cat_5Hz.pkl\")\n",
    "df_cat = pd.read_pickle(file)\n",
    "file = os.path.join(root, \"df_num_5Hz.pkl\")\n",
    "df_num = pd.read_pickle(file)\n",
    "file = os.path.join(root, \"df_out_5Hz.pkl\")\n",
    "df_out = pd.read_pickle(file)"
   ]
  },
  {
   "cell_type": "markdown",
   "metadata": {},
   "source": [
    "## Remove unneeded features on the basis of feature to feature correlation and low mutual information\n",
    "|Correlation| > 0.98 against another feature: [\"Front Right Wheel Speed\", \"Front Left Wheel Speed\", \"Rear Right Wheel Speed\", \"Rear Left Wheel Speed\", \"Vehicle Yaw Rate\"]"
   ]
  },
  {
   "cell_type": "markdown",
   "metadata": {},
   "source": [
    "low mutual information: ['Total Brake Torque', 'Vehicle Lateral Acceleration', 'Accelerator Pedal Position Percent Rate']"
   ]
  },
  {
   "cell_type": "code",
   "execution_count": 7,
   "metadata": {},
   "outputs": [],
   "source": [
    "featureNames = df_num.columns # replace with actual list of things\n",
    "#print(featureNames)\n",
    "toDrop = [\"Front Right Wheel Speed\", \"Front Left Wheel Speed\", \"Rear Right Wheel Speed\", \"Rear Left Wheel Speed\", \"Vehicle Yaw Rate\", 'Total Brake Torque', 'Vehicle Lateral Acceleration', 'Accelerator Pedal Position Percent Rate']\n",
    "remove = [featureNames.get_loc(label) for label in toDrop]\n",
    "allFeatures = [df_num.columns.get_loc(label) for label in featureNames]\n",
    "features = list(set(allFeatures) - set(remove))\n",
    "#print(\"Relevant features after feature to feature |correlation| > 0.98 removed and mutial information ~< 0.00001 removed: \")\n",
    "#{print(df_num.iloc[:, feat].name) for feat in features}"
   ]
  },
  {
   "cell_type": "markdown",
   "metadata": {},
   "source": [
    "## Create X and y, divide train/test, and define model + pipeline"
   ]
  },
  {
   "cell_type": "code",
   "execution_count": 8,
   "metadata": {},
   "outputs": [],
   "source": [
    "X_full = df_num.iloc[:, features].values\n",
    "X_labels = df_num.iloc[:, features].columns\n",
    "# Create binary classifier all postive class are one kind of misalginement or another\n",
    "y_full = df_out.iloc[:, 3].values >0\n",
    "\n",
    "# Does Train/test split\n",
    "X, X_holdout, y, y_holdout = train_test_split(X_full, y_full, test_size = 0.20, random_state = 0)\n",
    "# Defines model\n",
    "mdl = GaussianNB()\n",
    "sc = StandardScaler()\n",
    "# Setup pipeline to perform cross validation \n",
    "estimators = [('normalizer', sc), ('classifier', mdl)]\n",
    "pipe = Pipeline(estimators)"
   ]
  },
  {
   "cell_type": "code",
   "execution_count": 9,
   "metadata": {},
   "outputs": [],
   "source": [
    "#resultsLst = list()\n",
    "bestPipeL = list() \n",
    "trainPerfL = list()\n",
    "validPerfL = list()\n",
    "featuresL = list()"
   ]
  },
  {
   "cell_type": "markdown",
   "metadata": {},
   "source": [
    "## Setup recursive feature elimination with K folds validation"
   ]
  },
  {
   "cell_type": "code",
   "execution_count": 10,
   "metadata": {},
   "outputs": [],
   "source": [
    "def featurePrinter(feat_inds, df_X): \n",
    "    print(\"vvvvvvvvvvvvvvvvvvvvvvvvvvvvvvvvvvvvvvvvvvvvvvvvvvvvvvvvvvvvvvvvvvvvvvvvvvvvvvvvvvvvvvvvvvvvvv\")\n",
    "    print(\"Mutual information recursive feature elimination, using \", '%d' % len(feat_inds), \"features\")\n",
    "    #removed = np.asarray(list(set(feat_inds) - set(red_feat_inds)))\n",
    "    #print(\"Features being removed: \")\n",
    "    #print(df_X.iloc[:, removed].columns)\n",
    "    print(\"Features being used: \")\n",
    "    print(df_X.iloc[:, feat_inds].columns)\n",
    "    print(\"----------------------------------------------------------------------------------------------\")\n",
    "    \n",
    "def resultsPrinter(prevResults, results, end, start, tol):\n",
    "    print('Elpased time:', end-start, \" seconds\")\n",
    "    print(\"Decison: results['train_f1'].mean(): \", '%.3f' % (results['train_f1'].mean()), \", against threshold: \", '%.3f' % (prevResults['train_f1'].mean() - tol))\n",
    "    print(\"----------------------------------------------------------------------------------------------\")\n",
    "    #print('\\nTraining Metrics: ')\n",
    "    #print('Accuracy (Avg): ', '%.2f' % results['train_accuracy'].mean())\n",
    "    #print('F1 Macro (Avg): ', '%.2f' % results['train_f1'].mean())\n",
    "    #print('Recall Macro (Avg): ', '%.2f' % results['train_recall'].mean())\n",
    "    #print('Precision Macro (Avg): ', '%.2f' % results['train_precision'].mean())\n",
    "    #print('\\nTime training (Avg): ', results['fit_time'].mean())\n",
    "    #print('\\nValidation Metrics: ')\n",
    "    #print('Accuracy (Avg): ', '%.2f' % results['test_accuracy'].mean())\n",
    "    #print('F1 Macro (Avg): ', '%.2f' % results['test_f1'].mean())\n",
    "    #print('Recall Macro (Avg): ', '%.2f' % results['test_recall'].mean())\n",
    "    #print('Precision Macro (Avg): ', '%.2f' % results['test_precision'].mean(), \"\\n\")\n",
    "    print(\"----------------------------------------------------------------------------------------------\")\n",
    "    \n",
    "def removedPrinter(feat_inds, red_feat_inds, df_X): \n",
    "    removed = np.asarray(list(set(feat_inds) - set(red_feat_inds)))\n",
    "    print(\"Features being removed: \")\n",
    "    print(df_X.iloc[:, removed].columns)\n",
    "    print(\"^^^^^^^^^^^^^^^^^^^^^^^^^^^^^^^^^^^^^^^^^^^^^^^^^^^^^^^^^^^^^^^^^^^^^^^^^^^^^^^^^^^^^^^^^^^^^^\")\n",
    "    print(\"\\n\")\n",
    "    "
   ]
  },
  {
   "cell_type": "code",
   "execution_count": 11,
   "metadata": {},
   "outputs": [],
   "source": [
    "# Utility function to perform recursive feature reduction of k features with cross validation\n",
    "def RFE_MI(df_X, y, pipe, feat_inds, bestPipeLst, trainPerfLst, validPerfLst, featuresLst,  k=2, numSplt=3, prevResults=-1, verbose=1):\n",
    "    \n",
    "    start = time.perf_counter()\n",
    "    X = df_X.iloc[:, feat_inds].values # Select the features we want based on previous\n",
    "    kf = KFold(n_splits = numSplt, random_state = 0,  shuffle=True)\n",
    "    \n",
    "    # Perform Model Selection  #################################################################################\n",
    "        # Cross validate with model settings ###################################################################\n",
    "    results = cross_validate(pipe, X, y, cv=kf, scoring=['accuracy', 'f1','precision','recall'], n_jobs=-1, return_estimator=True, return_train_score=True)\n",
    "    best_index  = results['train_f1'].argmax()\n",
    "    bestPipe = results['estimator'][best_index]\n",
    "    #resultsLst.append(results)\n",
    "    featuresLst.append(feat_inds)\n",
    "    bestPipeLst.append(bestPipe) \n",
    "    trainPerfLst.append([results['train_accuracy'][best_index], results['train_f1'][best_index],\n",
    "                         results['train_recall'][best_index], results['train_precision'][best_index]]) \n",
    "    validPerfLst.append([results['test_accuracy'][best_index], results['test_f1'][best_index],\n",
    "                         results['test_recall'][best_index], results['test_precision'][best_index]]) \n",
    "    n = X.shape[1]-k # keep n features \n",
    "    tol = 0.02\n",
    "    \n",
    "    # Perform feature selection ###########################################################################\n",
    "        # for each train fold, test mutual information - maybe delete and do \"best\" pick\n",
    "    rank = np.zeros(X.shape[1])\n",
    "    inds_red = []\n",
    "    i = 0\n",
    "    for train_index, test_index in kf.split(X):\n",
    "        if i == best_index:\n",
    "            X_train, X_test = X[train_index], X[test_index]\n",
    "            y_train, y_test = y[train_index], y[test_index]\n",
    "        \n",
    "            mi = MutualInfo(X_train, y_train, 2, n_jobs=-1)\n",
    "            rank = mi.compute()\n",
    "            inds_red = np.argpartition(rank, -n)[-n:] # gets n largest elements from mi.compute\n",
    "        i = i+1 \n",
    "    # Eliminate Features  #####################################################################################      \n",
    "    #inds_red = np.argpartition(ind_counts, -n)[-n:] # gets n largest elements from ind_counts\n",
    "    feat_inds_red = feat_inds[inds_red] \n",
    "    \n",
    "    # Recursive Step  ######################################################################################### \n",
    "    if prevResults == -1:\n",
    "        prevResults = results\n",
    "    if results['train_f1'].mean() < (prevResults['train_f1'].mean() - tol):\n",
    "        end = time.perf_counter()\n",
    "        if verbose:\n",
    "            print(\"vvvvvvvvvvvvvvvvvvvvvvvvvvvvvvvvvvvvvvvvvvvvvvvvvvvvvvvvvvvvvvvvvvvvvvvvvvvvvvvvvvvvvvvvvvvvvv\")\n",
    "            print('Elpased time:', end-start, \" seconds\")\n",
    "            print(\"Stop condition reached, model got worse, returning previous results\")\n",
    "            print(\"----------------------------------------------------------------------------------------------\")\n",
    "            print(\"Final Features used: \")\n",
    "            print(df_X.iloc[:, feat_inds].columns)\n",
    "            print(\"^^^^^^^^^^^^^^^^^^^^^^^^^^^^^^^^^^^^^^^^^^^^^^^^^^^^^^^^^^^^^^^^^^^^^^^^^^^^^^^^^^^^^^^^^^^^^^\")\n",
    "            print(\"\\n\")\n",
    "        return feat_inds, prevResults\n",
    "    else:\n",
    "        end = time.perf_counter()\n",
    "        if verbose:\n",
    "            featurePrinter(feat_inds, df_X)\n",
    "            resultsPrinter(prevResults, results, end, start, tol)\n",
    "            removedPrinter(feat_inds, feat_inds_red, df_X)\n",
    "        if len(feat_inds) <= k:\n",
    "            print(\"Stop condition reached, cannot remove k more features, returning previous results\")\n",
    "            return feat_inds, results\n",
    "        else: \n",
    "            return RFE_MI(df_X, y, pipe, feat_inds_red, bestPipeLst, trainPerfLst, validPerfLst, featuresLst, k, numSplt, results, 0)"
   ]
  },
  {
   "cell_type": "markdown",
   "metadata": {},
   "source": [
    "## Evaluate the RFE"
   ]
  },
  {
   "cell_type": "code",
   "execution_count": 12,
   "metadata": {},
   "outputs": [
    {
     "name": "stdout",
     "output_type": "stream",
     "text": [
      "Stop condition reached, cannot remove k more features, returning previous results\n"
     ]
    }
   ],
   "source": [
    "feat_inds = np.arange(0, X.shape[1], 1)\n",
    "k = 3\n",
    "prevResults = -1\n",
    "df_X = pd.DataFrame(X, columns=np.asarray(X_labels)) \n",
    "final_feat_inds, results = RFE_MI(df_X, y, pipe, feat_inds, bestPipeL, trainPerfL, validPerfL, featuresL,  3, 4, -1, 0)"
   ]
  },
  {
   "cell_type": "markdown",
   "metadata": {},
   "source": [
    "## Evaluate hold out"
   ]
  },
  {
   "cell_type": "code",
   "execution_count": 13,
   "metadata": {},
   "outputs": [],
   "source": [
    "y_pred_list = list() \n",
    "holdoutPerfL = list()\n",
    "df_X_holdout = pd.DataFrame(X_holdout, columns=np.asarray(X_labels)) \n",
    "len(featuresL)\n",
    "for i in range(len(featuresL)):\n",
    "    Bpipe = bestPipeL[i]\n",
    "    feats = featuresL[i]\n",
    "    X_holdout_mod = df_X_holdout.iloc[:, feats].values # reduce to right features \n",
    "    y_pred = Bpipe.predict(X_holdout_mod)\n",
    "    y_pred_list.append(y_pred)\n",
    "    holdoutPerfL.append([accuracy_score(y_pred,y_holdout), f1_score(y_pred,y_holdout),\n",
    "                         recall_score(y_pred,y_holdout), precision_score(y_pred,y_holdout)]) "
   ]
  },
  {
   "cell_type": "markdown",
   "metadata": {},
   "source": [
    "### Plot K-folds performance"
   ]
  },
  {
   "cell_type": "code",
   "execution_count": 14,
   "metadata": {},
   "outputs": [
    {
     "data": {
      "text/plain": [
       "([<matplotlib.axis.XTick at 0x1383082dc88>,\n",
       "  <matplotlib.axis.XTick at 0x1383082d5c0>,\n",
       "  <matplotlib.axis.XTick at 0x1383082d320>,\n",
       "  <matplotlib.axis.XTick at 0x13830855be0>,\n",
       "  <matplotlib.axis.XTick at 0x1383085c160>,\n",
       "  <matplotlib.axis.XTick at 0x1383085c5f8>,\n",
       "  <matplotlib.axis.XTick at 0x1383085cb00>,\n",
       "  <matplotlib.axis.XTick at 0x138308630b8>],\n",
       " <a list of 8 Text xticklabel objects>)"
      ]
     },
     "execution_count": 14,
     "metadata": {},
     "output_type": "execute_result"
    },
    {
     "data": {
      "image/png": "[encoded data removed]",
      "text/plain": [
       "<Figure size 432x288 with 2 Axes>"
      ]
     },
     "metadata": {
      "needs_background": "light"
     },
     "output_type": "display_data"
    }
   ],
   "source": [
    "train = np.asarray(trainPerfL)[:,1]\n",
    "valid = np.asarray(validPerfL)[:,1]\n",
    "holdout = np.asarray(holdoutPerfL)[:,1]\n",
    "featLens = list()\n",
    "[featLens.append(len(feat)) for feat in featuresL]\n",
    "\n",
    "perfstr = 'f1_score'\n",
    "plt.figure(1)\n",
    "f1 = plt.subplot(211)\n",
    "plt.plot( featLens, train, marker='.',  color='blue',  linestyle='-', linewidth=2, label=\"K folds best training\")\n",
    "plt.plot( featLens, valid, marker='o', color='green', linewidth=2,  linestyle='dashed', label=\"K folds best validation\")\n",
    "plt.plot( featLens, holdout, marker='x', color='red', linewidth=2, linestyle=':', label=\"holdout\")\n",
    "plt.ylabel(perfstr)\n",
    "plt.xlabel('# of features')\n",
    "plt.legend()\n",
    "plt.show\n",
    "plt.axis('auto')\n",
    "plt.xticks(np.arange(min(featLens), max(featLens)+1, step=k))\n",
    "#plt.savefig('f1_naive_bayes.png')\n",
    "\n",
    "train = np.asarray(trainPerfL)[:,0]\n",
    "valid = np.asarray(validPerfL)[:,0]\n",
    "holdout = np.asarray(holdoutPerfL)[:,0]\n",
    "perfstr = 'accuracy_score'\n",
    "f1 = plt.subplot(212)\n",
    "plt.plot( featLens, train, marker='.',  color='blue',  linestyle='-', linewidth=2, label=\"K folds best training\")\n",
    "plt.plot( featLens, valid, marker='o', color='green', linewidth=2,  linestyle='dashed', label=\"K folds best validation\")\n",
    "plt.plot( featLens, holdout, marker='x', color='red', linewidth=2, linestyle=':', label=\"holdout\")\n",
    "plt.ylabel(perfstr)\n",
    "plt.xlabel('# of features')\n",
    "#plt.legend()\n",
    "plt.show\n",
    "plt.axis('auto')\n",
    "plt.xticks(np.arange(min(featLens), max(featLens)+1, step=k))\n",
    "root = r\".\\results\" \n",
    "file = os.path.join(root, 'BayesianPerf.png')\n",
    "fig.savefig(file)"
   ]
  },
  {
   "cell_type": "markdown",
   "metadata": {},
   "source": [
    "## Print performance in the holdout dataset against the best model (with 9 features)"
   ]
  },
  {
   "cell_type": "code",
   "execution_count": 15,
   "metadata": {},
   "outputs": [
    {
     "name": "stdout",
     "output_type": "stream",
     "text": [
      "vvvvvvvvvvvvvvvvvvvvvvvvvvvvvvvvvvvvvvvvvvvvvvvvvvvvvvvvvvvvvvvvvvvvvvvvvvvvvvvvvvvvvvvvvvvvvv\n",
      "Holdout Test Metrics: \n",
      "----------------------------------------------------------------------------------------------\n",
      "Accuracy:  0.82\n",
      "F1 Score:  0.85\n",
      "Recall:  0.89\n",
      "Precision:  0.82\n",
      "^^^^^^^^^^^^^^^^^^^^^^^^^^^^^^^^^^^^^^^^^^^^^^^^^^^^^^^^^^^^^^^^^^^^^^^^^^^^^^^^^^^^^^^^^^^^^^\n"
     ]
    }
   ],
   "source": [
    "best = featLens.index(9) # seems to satisfy the heuristic of low number of features, high f1 and accuracy \n",
    "Bpipe = bestPipeL[best]\n",
    "feats = featuresL[best]\n",
    "y_pred = y_pred_list[best]\n",
    "print(\"vvvvvvvvvvvvvvvvvvvvvvvvvvvvvvvvvvvvvvvvvvvvvvvvvvvvvvvvvvvvvvvvvvvvvvvvvvvvvvvvvvvvvvvvvvvvvv\")\n",
    "print('Holdout Test Metrics: ')\n",
    "print(\"----------------------------------------------------------------------------------------------\")\n",
    "print('Accuracy: ', '%.2f' % accuracy_score(y_pred,y_holdout))\n",
    "print('F1 Score: ', '%.2f' % f1_score(y_pred,y_holdout))\n",
    "print('Recall: ', '%.2f' % recall_score(y_pred,y_holdout))\n",
    "print('Precision: ', '%.2f' % precision_score(y_pred,y_holdout))\n",
    "print(\"^^^^^^^^^^^^^^^^^^^^^^^^^^^^^^^^^^^^^^^^^^^^^^^^^^^^^^^^^^^^^^^^^^^^^^^^^^^^^^^^^^^^^^^^^^^^^^\")"
   ]
  },
  {
   "cell_type": "code",
   "execution_count": 16,
   "metadata": {},
   "outputs": [
    {
     "data": {
      "text/plain": [
       "<matplotlib.axes._subplots.AxesSubplot at 0x1383091de10>"
      ]
     },
     "execution_count": 16,
     "metadata": {},
     "output_type": "execute_result"
    },
    {
     "data": {
      "image/png": "[encoded data removed]",
      "text/plain": [
       "<Figure size 432x288 with 2 Axes>"
      ]
     },
     "metadata": {},
     "output_type": "display_data"
    }
   ],
   "source": [
    "# Making the Confusion Matrix\n",
    "cm = confusion_matrix(y_holdout, y_pred)\n",
    "cm_normal = cm/len(y_pred)*100\n",
    "sn.set(font_scale=1.4)#for label size\n",
    "sn.heatmap(cm_normal,  cmap=\"YlGnBu\", annot=True,annot_kws={\"size\": 16})# font size"
   ]
  },
  {
   "cell_type": "code",
   "execution_count": 13,
   "metadata": {},
   "outputs": [],
   "source": [
    "filename = r\".\\results\\final_naive_bayes\" \n",
    "pickle.dump(Bpipe, open(filename, 'wb'))\n",
    "#NB_best = pickle.load(open(filename, 'rb'))\n",
    "#type(NB_best)"
   ]
  }
 ],
 "metadata": {
  "kernelspec": {
   "display_name": "Python 3",
   "language": "python",
   "name": "python3"
  },
  "language_info": {
   "codemirror_mode": {
    "name": "ipython",
    "version": 3
   },
   "file_extension": ".py",
   "mimetype": "text/x-python",
   "name": "python",
   "nbconvert_exporter": "python",
   "pygments_lexer": "ipython3",
   "version": "3.6.8"
  }
 },
 "nbformat": 4,
 "nbformat_minor": 2
}
