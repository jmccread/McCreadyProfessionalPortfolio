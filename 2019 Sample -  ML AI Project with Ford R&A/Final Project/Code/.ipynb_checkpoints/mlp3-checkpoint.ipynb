{
 "cells": [
  {
   "cell_type": "markdown",
   "metadata": {},
   "source": [
    "#  Created by Luis Alejandro (alejand@umich.edu)\n",
    "Builds an MLP classifier to classify the MNIST digits dataset. Uses MLP sklearn implementation."
   ]
  },
  {
   "cell_type": "code",
   "execution_count": 12,
   "metadata": {},
   "outputs": [],
   "source": [
    "import time\n",
    "\n",
    "import matplotlib.pyplot as plt\n",
    "\n",
    "from sklearn.neural_network import MLPClassifier\n",
    "from sklearn.metrics import accuracy_score\n",
    "from sklearn.metrics import f1_score\n",
    "from sklearn.metrics import recall_score\n",
    "from sklearn.metrics import precision_score\n",
    "\n",
    "from sklearn.model_selection import cross_validate\n",
    "import scipy.io as sio\n",
    "\n",
    "import numpy as np\n",
    "import numpy.random as rnd"
   ]
  },
  {
   "cell_type": "code",
   "execution_count": 13,
   "metadata": {},
   "outputs": [],
   "source": [
    "def display_subset(X,count=9,order='C'):\n",
    "    indexes = rnd.permutation(X.shape[0])\n",
    "    s = np.sqrt(count)\n",
    "    m = int(np.floor(s))\n",
    "    n = int(np.ceil(s))\n",
    "    fig, axes = plt.subplots(n,m)\n",
    "    fig.set_size_inches(2*n,2*m)\n",
    "    for i,ax in enumerate(axes.ravel()):\n",
    "        if i <= count:\n",
    "            ax.matshow(X[indexes[i],:].reshape(28,28,order=order), cmap=plt.cm.gray)\n",
    "            ax.set_xticks(())\n",
    "            ax.set_yticks(())\n",
    "        else:\n",
    "            fig.delaxes(ax)\n",
    "            \n",
    "def display_digit(X,y,count=9,order='C',digit=0):\n",
    "    indexes = np.where(y == digit)[0]\n",
    "    indexes = rnd.permutation(indexes)\n",
    "    s = np.sqrt(count)\n",
    "    m = int(np.floor(s))\n",
    "    n = int(np.ceil(s))\n",
    "    fig, axes = plt.subplots(n,m)\n",
    "    fig.set_size_inches(2*n,2*m)\n",
    "    for i,ax in enumerate(axes.ravel()):\n",
    "        if i <= count:\n",
    "            ax.matshow(X[indexes[i],:].reshape(28,28,order=order), cmap=plt.cm.gray)\n",
    "            ax.set_xticks(())\n",
    "            ax.set_yticks(())\n",
    "        else:\n",
    "            fig.delaxes(ax)\n",
    "            \n",
    "def compute_metrics(mdl,X,y):\n",
    "    y_pred = mdl.predict(X)\n",
    "    print('Accuracy: ', '%.2f'  % accuracy_score(y, y_pred))\n",
    "    print('F1 Score: ', '%.2f'  % f1_score(y, y_pred, average='macro'))\n",
    "    print('Recall: ', '%.2f'  % recall_score(y, y_pred, average='macro'))\n",
    "    print('Precision: ', '%.2f'  % precision_score(y, y_pred, average='macro'))"
   ]
  },
  {
   "cell_type": "code",
   "execution_count": 16,
   "metadata": {},
   "outputs": [
    {
     "data": {
      "image/png": "[encoded data removed]",
      "text/plain": [
       "<Figure size 432x432 with 9 Axes>"
      ]
     },
     "metadata": {},
     "output_type": "display_data"
    },
    {
     "data": {
      "image/png": "[encoded data removed]",
      "text/plain": [
       "<Figure size 432x432 with 9 Axes>"
      ]
     },
     "metadata": {},
     "output_type": "display_data"
    }
   ],
   "source": [
    "# Loading the data\n",
    "datafile = sio.loadmat('../../datasets/classification/mnist/emnist-digits.mat')\n",
    "X1 = datafile['dataset'][0][0]['train'][0][0]['images']\n",
    "X1 = X1 / 255.\n",
    "X2 = datafile['dataset'][0][0]['test'][0][0]['images']\n",
    "X2 = X2 / 255.\n",
    "y1 = datafile['dataset'][0][0]['train'][0][0]['labels'].ravel()\n",
    "y2 = datafile['dataset'][0][0]['test'][0][0]['labels'].ravel()\n",
    "X = np.concatenate((X1,X2))\n",
    "y = np.concatenate((y1,y2))\n",
    "# Determines train/test split\n",
    "use_original_split = False\n",
    "samples = 5000\n",
    "if samples > X1.shape[0]:\n",
    "    samples = X1.shape[0]\n",
    "# Using original\n",
    "if use_original_split:\n",
    "    X_train = X[:samples,:]\n",
    "    y_train = y[:samples]\n",
    "    X_test = X[X1.shape[0]:,:]\n",
    "    y_test = y[X1.shape[0]:]\n",
    "else:\n",
    "    m = y.shape[0]\n",
    "    pct = samples/m\n",
    "    if pct > 1: pct = 1\n",
    "    i = np.random.permutation(m)\n",
    "    X = X[i,:];\n",
    "    y = y[i]\n",
    "    m = round(pct*m)\n",
    "    X_train = X[:m,:]\n",
    "    X_test = X[m:,:]\n",
    "    y_train = y[:m]\n",
    "    y_test = y[m:]\n",
    "\n",
    "# Displays some examples\n",
    "display_digit(X_train,y_train,order='F')\n",
    "display_subset(X_train,order='F')"
   ]
  },
  {
   "cell_type": "code",
   "execution_count": 19,
   "metadata": {},
   "outputs": [],
   "source": [
    "# MLP classifier\n",
    "regularization = 1\n",
    "mdl = MLPClassifier(solver = 'lbfgs',hidden_layer_sizes=(30), activation='logistic',\n",
    "                    max_iter=400, alpha=regularization)"
   ]
  },
  {
   "cell_type": "code",
   "execution_count": 20,
   "metadata": {
    "scrolled": false
   },
   "outputs": [
    {
     "name": "stdout",
     "output_type": "stream",
     "text": [
      "Training size:  (5000, 784)\n",
      "Test size:  (275000, 784)\n",
      "\n",
      "Time training:  3.1782929999999965  sec\n",
      "# of iterations:  157\n",
      "\n",
      "Training Metrics: \n",
      "Accuracy:  1.00\n",
      "F1 Score:  1.00\n",
      "Recall:  1.00\n",
      "Precision:  1.00\n",
      "\n",
      "Test Metrics: \n",
      "Accuracy:  0.95\n",
      "F1 Score:  0.95\n",
      "Recall:  0.95\n",
      "Precision:  0.95\n"
     ]
    }
   ],
   "source": [
    "# Training using one single training/test split\n",
    "print('Training size: ', X_train.shape)\n",
    "print('Test size: ', X_test.shape)\n",
    "start = time.clock()\n",
    "mdl.fit(X_train,y_train)\n",
    "end = time.clock()\n",
    "print('\\nTime training: ', end - start, ' sec')\n",
    "print('# of iterations: ', mdl.n_iter_)\n",
    "print('\\nTraining Metrics: ')\n",
    "compute_metrics(mdl,X_train,y_train)\n",
    "print('\\nTest Metrics: ')\n",
    "compute_metrics(mdl,X_test,y_test)"
   ]
  },
  {
   "cell_type": "code",
   "execution_count": 6,
   "metadata": {},
   "outputs": [
    {
     "name": "stdout",
     "output_type": "stream",
     "text": [
      "['estimator', 'fit_time', 'score_time', 'test_accuracy', 'test_f1_macro', 'test_precision_macro', 'test_recall_macro', 'train_accuracy', 'train_f1_macro', 'train_precision_macro', 'train_recall_macro']\n",
      "\n",
      "Time training (Avg):  8.259218192100525\n",
      "\n",
      "Training Metrics: \n",
      "Accuracy (Avg):  1.00\n",
      "F1 Macro (Avg):  1.00\n",
      "Recall Macro (Avg):  1.00\n",
      "Precision Macro (Avg):  1.00\n",
      "\n",
      "Validation Metrics: \n",
      "Accuracy (Avg):  0.94\n",
      "F1 Macro (Avg):  0.94\n",
      "Recall Macro (Avg):  0.94\n",
      "Precision Macro (Avg):  0.95\n"
     ]
    }
   ],
   "source": [
    "# Training using K-fold crossvalidation\n",
    "scores = ['accuracy', 'f1_macro', 'recall_macro', 'precision_macro']\n",
    "results = cross_validate(mdl, X_train, y_train, cv = 10, n_jobs = -1, scoring=scores,\n",
    "                         return_estimator=True, return_train_score=True)\n",
    "print(sorted(results))\n",
    "print('\\nTime training (Avg): ', results['fit_time'].mean())\n",
    "\n",
    "print('\\nTraining Metrics: ')\n",
    "print('Accuracy (Avg): ', '%.2f' % results['train_accuracy'].mean())\n",
    "print('F1 Macro (Avg): ', '%.2f' % results['train_f1_macro'].mean())\n",
    "print('Recall Macro (Avg): ', '%.2f' % results['train_recall_macro'].mean())\n",
    "print('Precision Macro (Avg): ', '%.2f' % results['train_precision_macro'].mean())\n",
    "\n",
    "print('\\nValidation Metrics: ')\n",
    "print('Accuracy (Avg): ', '%.2f' % results['test_accuracy'].mean())\n",
    "print('F1 Macro (Avg): ', '%.2f' % results['test_f1_macro'].mean())\n",
    "print('Recall Macro (Avg): ', '%.2f' % results['test_recall_macro'].mean())\n",
    "print('Precision Macro (Avg): ', '%.2f' % results['test_precision_macro'].mean())"
   ]
  },
  {
   "cell_type": "code",
   "execution_count": null,
   "metadata": {},
   "outputs": [],
   "source": []
  }
 ],
 "metadata": {
  "kernelspec": {
   "display_name": "Python [conda env:machine_learning]",
   "language": "python",
   "name": "conda-env-machine_learning-py"
  },
  "language_info": {
   "codemirror_mode": {
    "name": "ipython",
    "version": 3
   },
   "file_extension": ".py",
   "mimetype": "text/x-python",
   "name": "python",
   "nbconvert_exporter": "python",
   "pygments_lexer": "ipython3",
   "version": "3.6.8"
  }
 },
 "nbformat": 4,
 "nbformat_minor": 2
}
