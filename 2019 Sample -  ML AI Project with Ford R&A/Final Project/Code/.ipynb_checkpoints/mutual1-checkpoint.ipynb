{
 "cells": [
  {
   "cell_type": "markdown",
   "metadata": {},
   "source": [
    "#  Created by Luis Alejandro (alejand@umich.edu)"
   ]
  },
  {
   "attachments": {
    "image.png": {
     "image/png": "[encoded data removed]"
    }
   },
   "cell_type": "markdown",
   "metadata": {},
   "source": [
    "## Mutual Information\n",
    "In probability theory and information theory, the mutual information (MI) of two random variables is a measure of the mutual dependence between the two variables. More specifically, it quantifies the \"amount of information\" (in units such as shannons, commonly called bits) obtained about one random variable through observing the other random variable.\n",
    "\n",
    "The mutual information of two jointly discrete random variables \\\\(X\\\\) and \\\\(Y\\\\) is calculated as a double sum:\n",
    "\n",
    "![image.png](attachment:image.png)\n",
    "\n",
    "where \\\\( p_{(X,Y)} \\\\) is the joint probability mass function of \\\\(X\\\\) and \\\\({Y}\\\\), and\\\\( p_{X}\\\\) and \\\\(p_Y\\\\) are the marginal probability mass functions of \\\\(X\\\\) and \\\\(Y\\\\) respectively."
   ]
  },
  {
   "cell_type": "code",
   "execution_count": 1,
   "metadata": {},
   "outputs": [],
   "source": [
    "import numpy as np\n",
    "from scipy.sparse.csc import csc_matrix\n",
    "import scipy.io as sio\n",
    "import time\n",
    "\n",
    "import sys\n",
    "sys.path.append('../')\n",
    "from util.mutual import MutualInfo\n",
    "from util.reports import report_feature_ranking"
   ]
  },
  {
   "cell_type": "code",
   "execution_count": 2,
   "metadata": {},
   "outputs": [],
   "source": [
    "dataset = sio.loadmat('../../datasets/classification/emails.mat')\n",
    "X = dataset['X'] # spare matrix\n",
    "X[X > 0] = 1\n",
    "y = dataset['Y'].flatten()\n",
    "vocab = list(dataset['vocab'][0][i][0] for i in range(X.shape[1]))"
   ]
  },
  {
   "cell_type": "code",
   "execution_count": 3,
   "metadata": {},
   "outputs": [
    {
     "name": "stdout",
     "output_type": "stream",
     "text": [
      "Using parallel version\n",
      "Elpased time: 4.3338947999999995\n"
     ]
    }
   ],
   "source": [
    "start = time.perf_counter()\n",
    "mi = MutualInfo(X,y,2, n_jobs=4)\n",
    "mi.compute()\n",
    "end = time.perf_counter()\n",
    "print('Elpased time:', end-start)"
   ]
  },
  {
   "cell_type": "code",
   "execution_count": 4,
   "metadata": {},
   "outputs": [
    {
     "name": "stdout",
     "output_type": "stream",
     "text": [
      "Feature ranked 1 is (our) with value 0.189992\n",
      "Feature ranked 2 is (click) with value 0.181527\n",
      "Feature ranked 3 is (wrote) with value 0.160754\n",
      "Feature ranked 4 is (your) with value 0.124104\n",
      "Feature ranked 5 is (please) with value 0.123546\n",
      ".\n",
      ".\n",
      ".\n",
      "\n",
      "Feature ranked 9996 is (damaged) with value 0.000000\n",
      "Feature ranked 9997 is (missiles) with value 0.000000\n",
      "Feature ranked 9998 is (annoy) with value 0.000000\n",
      "Feature ranked 9999 is (queen) with value 0.000000\n",
      "Feature ranked 10000 is (violation) with value 0.000000\n"
     ]
    }
   ],
   "source": [
    "report_feature_ranking(mi.info, vocab, 10)"
   ]
  },
  {
   "cell_type": "code",
   "execution_count": null,
   "metadata": {},
   "outputs": [],
   "source": []
  }
 ],
 "metadata": {
  "kernelspec": {
   "display_name": "Python 3",
   "language": "python",
   "name": "python3"
  },
  "language_info": {
   "codemirror_mode": {
    "name": "ipython",
    "version": 3
   },
   "file_extension": ".py",
   "mimetype": "text/x-python",
   "name": "python",
   "nbconvert_exporter": "python",
   "pygments_lexer": "ipython3",
   "version": "3.7.3"
  }
 },
 "nbformat": 4,
 "nbformat_minor": 2
}
